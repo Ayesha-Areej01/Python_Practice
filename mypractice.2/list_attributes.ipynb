{
 "cells": [
  {
   "cell_type": "code",
   "execution_count": 1,
   "metadata": {},
   "outputs": [],
   "source": [
    "name1 : str = \"Ayesha\"\n",
    "name2 : str = \"Ahmad\"\n",
    "name3 : str = \"Hassan\""
   ]
  },
  {
   "cell_type": "markdown",
   "metadata": {},
   "source": [
    "# list\n",
    "\n",
    ".Dynamic length\n",
    "\n",
    ".heterogeneous data type(multiple data types)\n",
    "\n",
    ".index\n",
    "\n",
    "(+  [0 to n-1])\n",
    "\n",
    "(-  [1 to length])"
   ]
  },
  {
   "cell_type": "code",
   "execution_count": null,
   "metadata": {},
   "outputs": [],
   "source": [
    "# =>        0          1          2\n",
    "names = ['Ayesha' , 'Ahmad' , 'Hassan']\n",
    "# <=        -3         -2         -1     "
   ]
  }
 ],
 "metadata": {
  "kernelspec": {
   "display_name": "python12",
   "language": "python",
   "name": "python3"
  },
  "language_info": {
   "codemirror_mode": {
    "name": "ipython",
    "version": 3
   },
   "file_extension": ".py",
   "mimetype": "text/x-python",
   "name": "python",
   "nbconvert_exporter": "python",
   "pygments_lexer": "ipython3",
   "version": "3.12.0"
  }
 },
 "nbformat": 4,
 "nbformat_minor": 2
}
