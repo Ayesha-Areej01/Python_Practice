{
 "cells": [
  {
   "cell_type": "markdown",
   "metadata": {},
   "source": [
    "I am so happy to start python class"
   ]
  },
  {
   "cell_type": "code",
   "execution_count": 1,
   "metadata": {},
   "outputs": [
    {
     "name": "stdout",
     "output_type": "stream",
     "text": [
      "Hello World\n"
     ]
    }
   ],
   "source": [
    "print(\"Hello World\")"
   ]
  },
  {
   "cell_type": "code",
   "execution_count": 10,
   "metadata": {},
   "outputs": [
    {
     "name": "stdout",
     "output_type": "stream",
     "text": [
      "70\n",
      "<class 'int'>\n",
      "140723634328152\n",
      "<generator object <genexpr> at 0x000002660D62E8E0>\n"
     ]
    }
   ],
   "source": [
    "name:int=70\n",
    "print(name)#print\n",
    "print(type(name))#type\n",
    "print(id(name))#physical adress\n",
    "print((i for i in dir(name)if \"__\" not in i) )#methods and attributes"
   ]
  },
  {
   "cell_type": "code",
   "execution_count": 16,
   "metadata": {},
   "outputs": [
    {
     "name": "stdout",
     "output_type": "stream",
     "text": [
      "12\n"
     ]
    }
   ],
   "source": [
    "\"a\" + str(7)\n",
    "\"a\" + \"7\"\n",
    "#>.............\\ line continuation\n",
    "print(7 +\\\n",
    "      2 + 3 )"
   ]
  },
  {
   "cell_type": "code",
   "execution_count": 26,
   "metadata": {},
   "outputs": [
    {
     "name": "stdout",
     "output_type": "stream",
     "text": [
      "PIAIC Student Card\n",
      "Student Name : Ayesha\n",
      "Age : 16\n",
      "Education : XI\n",
      "Quarter : 2\n"
     ]
    }
   ],
   "source": [
    "#\\converts special character into normalcharacter\n",
    "name = \"Ayesha\"\n",
    "age = 16\n",
    "education = \"XI\"\n",
    "quarter = 2\n",
    "message:str = \"PIAIC Student Card\\nStudent Name : \" + name +\\\n",
    "    \"\\nAge : \" + str(age) +\\\n",
    "     \"\\nEducation : \" + education +\\\n",
    "     \"\\nQuarter : \" + str(quarter)\n",
    "print(message)"
   ]
  },
  {
   "cell_type": "markdown",
   "metadata": {},
   "source": [
    "Define multiline string ''' ''' , \"\"\" \"\"\""
   ]
  },
  {
   "cell_type": "code",
   "execution_count": 24,
   "metadata": {},
   "outputs": [
    {
     "name": "stdout",
     "output_type": "stream",
     "text": [
      " \n",
      "PIAIC Student Card\n",
      "Student Name : Ayesha\n",
      "Age : 16\n",
      "Education : XI\n",
      "Quarter : 2\n",
      "\n"
     ]
    }
   ],
   "source": [
    "#F-string\n",
    "name : str = \"Ayesha\"\n",
    "age : int = 16\n",
    "education : str = \"XI\"\n",
    "quarter : int = 2\n",
    "\n",
    "card : str = f\"\"\" \n",
    "PIAIC Student Card\n",
    "Student Name : {name}\n",
    "Age : {age}\n",
    "Education : {education}\n",
    "Quarter : {quarter}\n",
    "\"\"\"\n",
    "print (card)"
   ]
  },
  {
   "cell_type": "code",
   "execution_count": 28,
   "metadata": {},
   "outputs": [
    {
     "name": "stdout",
     "output_type": "stream",
     "text": [
      "\n",
      "PIAIC Student Card\n",
      "Student Name : Ayesha\n",
      "Age : 16\n",
      "Education : XI\n",
      "Quarter : 2\n",
      "\n",
      "Fee : 4500\n",
      "\n"
     ]
    }
   ],
   "source": [
    "name : str = \"Ayesha\"\n",
    "age : int = 16\n",
    "education : str = \"XI\"\n",
    "quarter : int = 2\n",
    "\n",
    "card : str = f'''\n",
    "PIAIC Student Card\n",
    "Student Name : {name}\n",
    "Age : {age}\n",
    "Education : {education}\n",
    "Quarter : {quarter}\n",
    "\n",
    "Fee : {4000 + 500}\n",
    "'''\n",
    "print (card)"
   ]
  },
  {
   "cell_type": "markdown",
   "metadata": {},
   "source": [
    "#F-string and Jinja style"
   ]
  },
  {
   "cell_type": "code",
   "execution_count": 110,
   "metadata": {},
   "outputs": [
    {
     "data": {
      "text/plain": [
       "'student name:        Ayesha AAY       '"
      ]
     },
     "execution_count": 110,
     "metadata": {},
     "output_type": "execute_result"
    }
   ],
   "source": [
    "f\"\"\"student name:{name}\"\"\""
   ]
  },
  {
   "cell_type": "code",
   "execution_count": null,
   "metadata": {},
   "outputs": [],
   "source": [
    "#Jinja style in django\n",
    "\"\"\"\n",
    "student name : {{name}}\n",
    "\"\"\""
   ]
  },
  {
   "cell_type": "code",
   "execution_count": 32,
   "metadata": {},
   "outputs": [
    {
     "name": "stdout",
     "output_type": "stream",
     "text": [
      "\n",
      "PIAIC Student Card\n",
      "Student Name : Ayesha\n",
      "Age : 16\n",
      "Education : XI\n",
      "Quarter : 2\n",
      "\n"
     ]
    }
   ],
   "source": [
    "name : str = \"Ayesha\"\n",
    "age : int = 16\n",
    "education : str = \"XI\"\n",
    "quarter : int = 2\n",
    "\n",
    "card : str = f'''\n",
    "PIAIC Student Card\n",
    "Student Name : %s\n",
    "Age : %d\n",
    "Education : %s\n",
    "Quarter : %d\n",
    "''' %(name,age,education,quarter)\n",
    "print (card)"
   ]
  },
  {
   "cell_type": "code",
   "execution_count": 89,
   "metadata": {},
   "outputs": [
    {
     "name": "stdout",
     "output_type": "stream",
     "text": [
      "['capitalize', 'casefold', 'center', 'count', 'encode', 'endswith', 'expandtabs', 'find', 'format', 'format_map', 'index', 'isalnum', 'isalpha', 'isascii', 'isdecimal', 'isdigit', 'isidentifier', 'islower', 'isnumeric', 'isprintable', 'isspace', 'istitle', 'isupper', 'join', 'ljust', 'lower', 'lstrip', 'maketrans', 'partition', 'removeprefix', 'removesuffix', 'replace', 'rfind', 'rindex', 'rjust', 'rpartition', 'rsplit', 'rstrip', 'split', 'splitlines', 'startswith', 'strip', 'swapcase', 'title', 'translate', 'upper', 'zfill']\n"
     ]
    }
   ],
   "source": [
    "name: str = \"Ayesha\"\n",
    "print([i for i in dir(name) if \"__\" not in i])"
   ]
  },
  {
   "cell_type": "code",
   "execution_count": 51,
   "metadata": {},
   "outputs": [
    {
     "name": "stdout",
     "output_type": "stream",
     "text": [
      "\n",
      "PIAIC Student Card\n",
      "Student Name : Ayesha\n",
      "Age : 16\n",
      "Education : XI\n",
      "Quarter : 2\n",
      "\n"
     ]
    }
   ],
   "source": [
    "name : str = \"Ayesha\"\n",
    "age : int = 16\n",
    "education : str = \"XI\"\n",
    "quarter : int = 2\n",
    "\n",
    "card : str = \"\"\"\n",
    "PIAIC Student Card\n",
    "Student Name : {}\n",
    "Age : {}\n",
    "Education : {}\n",
    "Quarter : {}\n",
    "\"\"\".format(name, age, education, quarter)\n",
    "print (card)"
   ]
  },
  {
   "cell_type": "code",
   "execution_count": 44,
   "metadata": {},
   "outputs": [
    {
     "data": {
      "text/plain": [
       "'Pakistan value  7 and value  8'"
      ]
     },
     "execution_count": 44,
     "metadata": {},
     "output_type": "execute_result"
    }
   ],
   "source": [
    "a = 7\n",
    "b = 8\n",
    "#{} place holder\n",
    "\"Pakistan value  {} and value  {}\".format(a,b)"
   ]
  },
  {
   "cell_type": "code",
   "execution_count": 52,
   "metadata": {},
   "outputs": [
    {
     "name": "stdout",
     "output_type": "stream",
     "text": [
      "My name is Ayesha\n",
      "8\n"
     ]
    }
   ],
   "source": [
    "student_code : str = \"\"\"\n",
    "print (\"My name is Ayesha\")\n",
    "a : int = 2\n",
    "b : int = 6\n",
    "print (a+b)\n",
    "\"\"\"\n",
    "exec(student_code)"
   ]
  },
  {
   "cell_type": "code",
   "execution_count": 59,
   "metadata": {},
   "outputs": [
    {
     "name": "stdout",
     "output_type": "stream",
     "text": [
      "                   Ayesha            \n",
      "Ayesha\n"
     ]
    }
   ],
   "source": [
    "name : str = \"                   Ayesha            \"\n",
    "print(name)\n",
    "print(name.strip())"
   ]
  },
  {
   "cell_type": "code",
   "execution_count": 71,
   "metadata": {},
   "outputs": [
    {
     "data": {
      "text/plain": [
       "'Ayesha   Areej   '"
      ]
     },
     "metadata": {},
     "output_type": "display_data"
    },
    {
     "data": {
      "text/plain": [
       "'Ayesha Areej '"
      ]
     },
     "metadata": {},
     "output_type": "display_data"
    }
   ],
   "source": [
    "import re\n",
    "\n",
    "name : str = \"Ayesha   Areej   \"\n",
    "display(name)\n",
    "#displays prints with quotes\n",
    "name1 : str = re.sub(' {2,100} ',' ', name)\n",
    "display(name1)"
   ]
  },
  {
   "cell_type": "code",
   "execution_count": 75,
   "metadata": {},
   "outputs": [
    {
     "name": "stdout",
     "output_type": "stream",
     "text": [
      "\tAYesha\n",
      "\tAyesha\n"
     ]
    }
   ],
   "source": [
    "\n",
    "name : str = \"\\tAYesha\"\n",
    "print(name)\n",
    "print(name.title())"
   ]
  },
  {
   "cell_type": "code",
   "execution_count": 113,
   "metadata": {},
   "outputs": [
    {
     "name": "stdout",
     "output_type": "stream",
     "text": [
      "Hello Ahmad, Let's learn python\n",
      "ahmad\n",
      "AHMAD\n",
      "Ahmad\n",
      "        Ayesha AAY       \n",
      "Ayesha AAY       \n",
      "        Ayesha AAY\n",
      "Ayesha AAY\n",
      "python_notes.txt\n",
      "https://python_notes\n",
      "Martin Luther said I have a dream that one day this nation will rise up\n",
      "Martin Luther once said:\n",
      "I have a dream that one day this nation will rise up\n",
      "0.30000000000000004\n"
     ]
    }
   ],
   "source": [
    "name : str = \"Ahmad\"\n",
    "#Personal Message: Use a variable to represent a person’s name, and print \n",
    "#a message to that person.\n",
    "print(f'''Hello {name}, Let's learn python''' )\n",
    "# Name Cases: Use a variable to represent a person’s name, and then print \n",
    "#that person’s name in lowercase, uppercase, and title case.\n",
    "print(name.lower())\n",
    "print(name.upper())\n",
    "print(name.title())\n",
    "#Stripping Names: Use a variable to represent a person’s name, and \n",
    "#include some whitespace characters at the beginning and end of the name. \n",
    "#Make sure you use each character combination, \"\\t\" and \"\\n\", at least once.\n",
    "#Print the name once, so the whitespace around the name is displayed. \n",
    "#Then print the name using each of the three stripping functions, lstrip(), \n",
    "#rstrip(), and strip().\n",
    "name : str = \"        Ayesha AAY       \"\n",
    "print(name)\n",
    "print(name.lstrip())\n",
    "print(name.rstrip())\n",
    "print(name.strip())\n",
    "\n",
    "#File Extensions: Python has a removesuffix() method that works exactly \n",
    "#like removeprefix(). Assign the value 'python_notes.txt' to a variable called \n",
    "#filename. Then use the removesuffix() method to display the filename without \n",
    "#the file extension, like some file browsers do.\n",
    "file_name : str = \"https://python_notes.txt\"\n",
    "print(file_name.removeprefix(\"https://\"))\n",
    "print(file_name.removesuffix(\".txt\"))\n",
    "#. Famous Quote: Find a quote from a famous person you admire. Print the \n",
    "#quote and the name of its author. Your output should look something like the \n",
    "#following, including the quotation marks:\n",
    "#Albert Einstein once said, “A person who never made a mistake never \n",
    "#tried anything new.”\n",
    "quote : str = \"I have a dream that one day this nation will rise up\"\n",
    "author : str = \"Martin Luther\"\n",
    "print(f'''{author} said {quote}''')\n",
    "#Famous Quote 2: Repeat Exercise 2-5, but this time, represent the famous person’s name \n",
    "#using a variable called famous_person. Then compose your message and represent it with\n",
    "#a new variable called message. Print your message\n",
    "famous_person : str = \"Martin Luther\"\n",
    "quote : str = \"I have a dream that one day this nation will rise up\"\n",
    "message : str = '''{} once said:\n",
    "{}'''.format(author,quote)\n",
    "print(message)\n",
    "\n",
    "\n"
   ]
  },
  {
   "cell_type": "code",
   "execution_count": 117,
   "metadata": {},
   "outputs": [
    {
     "name": "stderr",
     "output_type": "stream",
     "text": [
      "\n",
      "Building graph of deps:   0%|          | 0/4 [00:00<?, ?it/s]\n",
      "Examining lxml:   0%|          | 0/4 [00:00<?, ?it/s]        \n",
      "Examining python==3.12:  25%|██▌       | 1/4 [00:02<00:06,  2.22s/it]\n",
      "Examining python==3.12:  50%|█████     | 2/4 [00:02<00:02,  1.11s/it]\n",
      "Examining @/win-64::__win==0=0:  50%|█████     | 2/4 [00:02<00:02,  1.11s/it]\n",
      "Examining @/win-64::__archspec==1=x86_64:  75%|███████▌  | 3/4 [00:02<00:01,  1.11s/it]\n",
      "                                                                                       \n",
      "\n",
      "Determining conflicts:   0%|          | 0/4 [00:00<?, ?it/s]\n",
      "Examining conflict for lxml python:   0%|          | 0/4 [00:00<?, ?it/s]\n",
      "                                                                         \n",
      "\n",
      "UnsatisfiableError: The following specifications were found\n",
      "to be incompatible with the existing python installation in your environment:\n",
      "\n",
      "Specifications:\n",
      "\n",
      "  - lxml -> python[version='>=2.7,<2.8.0a0|>=3.10,<3.11.0a0|>=3.11,<3.12.0a0|>=3.8,<3.9.0a0|>=3.9,<3.10.0a0|>=3.7,<3.8.0a0|>=3.6,<3.7.0a0|>=3.5,<3.6.0a0']\n",
      "\n",
      "Your python: python==3.12\n",
      "\n",
      "If python is on the left-most side of the chain, that's the version you've asked for.\n",
      "When python appears to the right, that indicates that the thing on the left is somehow\n",
      "not available for the python version you are constrained to. Note that conda will not\n",
      "change your python version to a different minor version unless you explicitly specify\n",
      "that.\n",
      "\n",
      "\n",
      "\n"
     ]
    },
    {
     "name": "stdout",
     "output_type": "stream",
     "text": [
      "Retrieving notices: ...working... done\n",
      "Collecting package metadata (current_repodata.json): ...working... done\n",
      "Solving environment: ...working... unsuccessful initial attempt using frozen solve. Retrying with flexible solve.\n",
      "Solving environment: ...working... unsuccessful attempt using repodata from current_repodata.json, retrying with next repodata source.\n",
      "Collecting package metadata (repodata.json): ...working... done\n",
      "Solving environment: ...working... unsuccessful initial attempt using frozen solve. Retrying with flexible solve.\n",
      "Solving environment: ...working... \n",
      "Found conflicts! Looking for incompatible packages.\n",
      "This can take several minutes.  Press CTRL-C to abort.\n",
      "failed\n",
      "Collecting package metadata (current_repodata.json): ...working... done\n",
      "Solving environment: ...working... unsuccessful initial attempt using frozen solve. Retrying with flexible solve.\n",
      "Solving environment: ...working... unsuccessful attempt using repodata from current_repodata.json, retrying with next repodata source.\n",
      "Collecting package metadata (repodata.json): ...working... done\n",
      "Solving environment: ...working... unsuccessful initial attempt using frozen solve. Retrying with flexible solve.\n",
      "Solving environment: ...working... \n",
      "Found conflicts! Looking for incompatible packages.\n",
      "This can take several minutes.  Press CTRL-C to abort.\n",
      "failed\n"
     ]
    },
    {
     "name": "stderr",
     "output_type": "stream",
     "text": [
      "\n",
      "Building graph of deps:   0%|          | 0/4 [00:00<?, ?it/s]\n",
      "Examining @/win-64::__archspec==1=x86_64:   0%|          | 0/4 [00:00<?, ?it/s]\n",
      "Examining python==3.12:  25%|██▌       | 1/4 [00:00<00:00, 1000.79it/s]        \n",
      "Examining lxml:  50%|█████     | 2/4 [00:00<00:00, 38.49it/s]          \n",
      "Examining @/win-64::__win==0=0:  75%|███████▌  | 3/4 [00:02<00:00,  1.48it/s]\n",
      "Examining @/win-64::__win==0=0: 100%|██████████| 4/4 [00:02<00:00,  1.98it/s]\n",
      "                                                                             \n",
      "\n",
      "Determining conflicts:   0%|          | 0/4 [00:00<?, ?it/s]\n",
      "Examining conflict for python lxml:   0%|          | 0/4 [00:00<?, ?it/s]\n",
      "                                                                         \n",
      "\n",
      "UnsatisfiableError: The following specifications were found\n",
      "to be incompatible with the existing python installation in your environment:\n",
      "\n",
      "Specifications:\n",
      "\n",
      "  - lxml -> python[version='>=2.7,<2.8.0a0|>=3.10,<3.11.0a0|>=3.11,<3.12.0a0|>=3.8,<3.9.0a0|>=3.9,<3.10.0a0|>=3.7,<3.8.0a0|>=3.6,<3.7.0a0|>=3.5,<3.6.0a0']\n",
      "\n",
      "Your python: python==3.12\n",
      "\n",
      "If python is on the left-most side of the chain, that's the version you've asked for.\n",
      "When python appears to the right, that indicates that the thing on the left is somehow\n",
      "not available for the python version you are constrained to. Note that conda will not\n",
      "change your python version to a different minor version unless you explicitly specify\n",
      "that.\n",
      "\n",
      "\n",
      "\n"
     ]
    },
    {
     "name": "stdout",
     "output_type": "stream",
     "text": [
      "Collecting package metadata (current_repodata.json): ...working... done\n",
      "Solving environment: ...working... unsuccessful initial attempt using frozen solve. Retrying with flexible solve.\n",
      "Solving environment: ...working... unsuccessful attempt using repodata from current_repodata.json, retrying with next repodata source.\n",
      "Collecting package metadata (repodata.json): ...working... done\n",
      "Solving environment: ...working... unsuccessful initial attempt using frozen solve. Retrying with flexible solve.\n",
      "Solving environment: ...working... \n",
      "Found conflicts! Looking for incompatible packages.\n",
      "This can take several minutes.  Press CTRL-C to abort.\n",
      "failed\n"
     ]
    },
    {
     "name": "stderr",
     "output_type": "stream",
     "text": [
      "\n",
      "Building graph of deps:   0%|          | 0/4 [00:00<?, ?it/s]\n",
      "Examining @/win-64::__archspec==1=x86_64:   0%|          | 0/4 [00:00<?, ?it/s]\n",
      "Examining lxml:  25%|██▌       | 1/4 [00:00<?, ?it/s]                          \n",
      "Examining python==3.12:  50%|█████     | 2/4 [00:01<00:01,  1.95it/s]\n",
      "Examining python==3.12:  75%|███████▌  | 3/4 [00:01<00:00,  2.93it/s]\n",
      "Examining @/win-64::__win==0=0:  75%|███████▌  | 3/4 [00:01<00:00,  2.93it/s]\n",
      "                                                                             \n",
      "\n",
      "Determining conflicts:   0%|          | 0/4 [00:00<?, ?it/s]\n",
      "Examining conflict for lxml python:   0%|          | 0/4 [00:00<?, ?it/s]\n",
      "                                                                         \n",
      "\n",
      "UnsatisfiableError: The following specifications were found\n",
      "to be incompatible with the existing python installation in your environment:\n",
      "\n",
      "Specifications:\n",
      "\n",
      "  - lxml -> python[version='>=2.7,<2.8.0a0|>=3.10,<3.11.0a0|>=3.11,<3.12.0a0|>=3.8,<3.9.0a0|>=3.9,<3.10.0a0|>=3.7,<3.8.0a0|>=3.6,<3.7.0a0|>=3.5,<3.6.0a0']\n",
      "\n",
      "Your python: python==3.12\n",
      "\n",
      "If python is on the left-most side of the chain, that's the version you've asked for.\n",
      "When python appears to the right, that indicates that the thing on the left is somehow\n",
      "not available for the python version you are constrained to. Note that conda will not\n",
      "change your python version to a different minor version unless you explicitly specify\n",
      "that.\n",
      "\n",
      "\n",
      "\n"
     ]
    }
   ],
   "source": [
    "!conda install lxml -y"
   ]
  }
 ],
 "metadata": {
  "kernelspec": {
   "display_name": "python12",
   "language": "python",
   "name": "python3"
  },
  "language_info": {
   "codemirror_mode": {
    "name": "ipython",
    "version": 3
   },
   "file_extension": ".py",
   "mimetype": "text/x-python",
   "name": "python",
   "nbconvert_exporter": "python",
   "pygments_lexer": "ipython3",
   "version": "3.12.0"
  }
 },
 "nbformat": 4,
 "nbformat_minor": 2
}
